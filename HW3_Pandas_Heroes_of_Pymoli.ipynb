{
 "cells": [
  {
   "cell_type": "code",
   "execution_count": 2,
   "metadata": {
    "collapsed": true
   },
   "outputs": [],
   "source": [
    "# Import the Pandas library\n",
    "import pandas as pd\n",
    "import os\n",
    "import numpy\n"
   ]
  },
  {
   "cell_type": "code",
   "execution_count": 8,
   "metadata": {},
   "outputs": [
    {
     "data": {
      "text/html": [
       "<div>\n",
       "<style>\n",
       "    .dataframe thead tr:only-child th {\n",
       "        text-align: right;\n",
       "    }\n",
       "\n",
       "    .dataframe thead th {\n",
       "        text-align: left;\n",
       "    }\n",
       "\n",
       "    .dataframe tbody tr th {\n",
       "        vertical-align: top;\n",
       "    }\n",
       "</style>\n",
       "<table border=\"1\" class=\"dataframe\">\n",
       "  <thead>\n",
       "    <tr style=\"text-align: right;\">\n",
       "      <th></th>\n",
       "      <th>Age</th>\n",
       "      <th>Gender</th>\n",
       "      <th>Item ID</th>\n",
       "      <th>Item Name</th>\n",
       "      <th>Price</th>\n",
       "      <th>SN</th>\n",
       "    </tr>\n",
       "  </thead>\n",
       "  <tbody>\n",
       "    <tr>\n",
       "      <th>0</th>\n",
       "      <td>38</td>\n",
       "      <td>Male</td>\n",
       "      <td>165</td>\n",
       "      <td>Bone Crushing Silver Skewer</td>\n",
       "      <td>3.37</td>\n",
       "      <td>Aelalis34</td>\n",
       "    </tr>\n",
       "    <tr>\n",
       "      <th>1</th>\n",
       "      <td>21</td>\n",
       "      <td>Male</td>\n",
       "      <td>119</td>\n",
       "      <td>Stormbringer, Dark Blade of Ending Misery</td>\n",
       "      <td>2.32</td>\n",
       "      <td>Eolo46</td>\n",
       "    </tr>\n",
       "    <tr>\n",
       "      <th>2</th>\n",
       "      <td>34</td>\n",
       "      <td>Male</td>\n",
       "      <td>174</td>\n",
       "      <td>Primitive Blade</td>\n",
       "      <td>2.46</td>\n",
       "      <td>Assastnya25</td>\n",
       "    </tr>\n",
       "    <tr>\n",
       "      <th>3</th>\n",
       "      <td>21</td>\n",
       "      <td>Male</td>\n",
       "      <td>92</td>\n",
       "      <td>Final Critic</td>\n",
       "      <td>1.36</td>\n",
       "      <td>Pheusrical25</td>\n",
       "    </tr>\n",
       "    <tr>\n",
       "      <th>4</th>\n",
       "      <td>23</td>\n",
       "      <td>Male</td>\n",
       "      <td>63</td>\n",
       "      <td>Stormfury Mace</td>\n",
       "      <td>1.27</td>\n",
       "      <td>Aela59</td>\n",
       "    </tr>\n",
       "  </tbody>\n",
       "</table>\n",
       "</div>"
      ],
      "text/plain": [
       "   Age Gender  Item ID                                  Item Name  Price  \\\n",
       "0   38   Male      165                Bone Crushing Silver Skewer   3.37   \n",
       "1   21   Male      119  Stormbringer, Dark Blade of Ending Misery   2.32   \n",
       "2   34   Male      174                            Primitive Blade   2.46   \n",
       "3   21   Male       92                               Final Critic   1.36   \n",
       "4   23   Male       63                             Stormfury Mace   1.27   \n",
       "\n",
       "             SN  \n",
       "0     Aelalis34  \n",
       "1        Eolo46  \n",
       "2   Assastnya25  \n",
       "3  Pheusrical25  \n",
       "4        Aela59  "
      ]
     },
     "execution_count": 8,
     "metadata": {},
     "output_type": "execute_result"
    }
   ],
   "source": [
    "\n",
    "# Create a reference the JSON file desired\n",
    "json_path = \"HW/purchase_data.json\"\n",
    "\n",
    "# Read the JSON into a Pandas DataFrame\n",
    "Heroes_df = pd.read_json(json_path)\n",
    "\n",
    "# Print the first five rows of data to the screen\n",
    "Heroes_df.head()"
   ]
  },
  {
   "cell_type": "code",
   "execution_count": 204,
   "metadata": {},
   "outputs": [
    {
     "name": "stdout",
     "output_type": "stream",
     "text": [
      "Total Players = 573\n"
     ]
    }
   ],
   "source": [
    "total_count = Heroes_df['SN'].nunique()\n",
    "print(\"Total Players = \"  + str(total_count))"
   ]
  },
  {
   "cell_type": "code",
   "execution_count": 79,
   "metadata": {},
   "outputs": [],
   "source": [
    "Unique_items = pd.DataFrame(Heroes_df['Item ID'].unique())\n",
    "unique = Unique_items.count()"
   ]
  },
  {
   "cell_type": "code",
   "execution_count": 202,
   "metadata": {},
   "outputs": [
    {
     "name": "stdout",
     "output_type": "stream",
     "text": [
      "Items = 573\n",
      "Average Purchase Price = 2.931192307692303\n",
      "Total Purchases = 780\n",
      "Total Revenue = 2286.3299999999963\n"
     ]
    }
   ],
   "source": [
    "avg_purchase_price = Heroes_df['Price'].mean()\n",
    "tot_purchases = Heroes_df['Item ID'].count()\n",
    "Total_Revenue = Heroes_df['Price'].sum()\n",
    "print(\"Items = \" + str(total_count))\n",
    "print(\"Average Purchase Price = \" + str(avg_purchase_price))\n",
    "print(\"Total Purchases = \" + str(tot_purchases))\n",
    "print(\"Total Revenue = \" + str(Total_Revenue))\n"
   ]
  },
  {
   "cell_type": "code",
   "execution_count": 206,
   "metadata": {},
   "outputs": [
    {
     "name": "stdout",
     "output_type": "stream",
     "text": [
      "                       Total_Count  Percentage of Players\n",
      "Gender                                                   \n",
      "Female                         136              17.435897\n",
      "Male                           633              81.153846\n",
      "Other / Non-Disclosed           11               1.410256\n"
     ]
    }
   ],
   "source": [
    "test = Heroes_df.groupby('Gender').agg({'SN':'count'})\n",
    "gender_df = pd.DataFrame(test)\n",
    "gender_df['Percentage of Players'] = gender_df['SN'] / gender_df['SN'].sum() * 100\n",
    "gender_re = gender_df.rename(columns = {'SN': 'Total_Count'})\n",
    "print(str(gender_re))"
   ]
  },
  {
   "cell_type": "code",
   "execution_count": 147,
   "metadata": {},
   "outputs": [
    {
     "data": {
      "text/html": [
       "<div>\n",
       "<style>\n",
       "    .dataframe thead tr:only-child th {\n",
       "        text-align: right;\n",
       "    }\n",
       "\n",
       "    .dataframe thead th {\n",
       "        text-align: left;\n",
       "    }\n",
       "\n",
       "    .dataframe tbody tr th {\n",
       "        vertical-align: top;\n",
       "    }\n",
       "</style>\n",
       "<table border=\"1\" class=\"dataframe\">\n",
       "  <thead>\n",
       "    <tr style=\"text-align: right;\">\n",
       "      <th></th>\n",
       "      <th>Purchase Count</th>\n",
       "      <th>Total Purchase Value</th>\n",
       "      <th>Average Purchase Price</th>\n",
       "      <th>Normalized Totals</th>\n",
       "    </tr>\n",
       "    <tr>\n",
       "      <th>Gender</th>\n",
       "      <th></th>\n",
       "      <th></th>\n",
       "      <th></th>\n",
       "      <th></th>\n",
       "    </tr>\n",
       "  </thead>\n",
       "  <tbody>\n",
       "    <tr>\n",
       "      <th>Female</th>\n",
       "      <td>136</td>\n",
       "      <td>382.91</td>\n",
       "      <td>2.815515</td>\n",
       "      <td>2.815515</td>\n",
       "    </tr>\n",
       "    <tr>\n",
       "      <th>Male</th>\n",
       "      <td>633</td>\n",
       "      <td>1867.68</td>\n",
       "      <td>2.950521</td>\n",
       "      <td>2.950521</td>\n",
       "    </tr>\n",
       "    <tr>\n",
       "      <th>Other / Non-Disclosed</th>\n",
       "      <td>11</td>\n",
       "      <td>35.74</td>\n",
       "      <td>3.249091</td>\n",
       "      <td>3.249091</td>\n",
       "    </tr>\n",
       "  </tbody>\n",
       "</table>\n",
       "</div>"
      ],
      "text/plain": [
       "                       Purchase Count  Total Purchase Value  \\\n",
       "Gender                                                        \n",
       "Female                            136                382.91   \n",
       "Male                              633               1867.68   \n",
       "Other / Non-Disclosed              11                 35.74   \n",
       "\n",
       "                       Average Purchase Price  Normalized Totals  \n",
       "Gender                                                            \n",
       "Female                               2.815515           2.815515  \n",
       "Male                                 2.950521           2.950521  \n",
       "Other / Non-Disclosed                3.249091           3.249091  "
      ]
     },
     "execution_count": 147,
     "metadata": {},
     "output_type": "execute_result"
    }
   ],
   "source": [
    "gender_table = Heroes_df.groupby('Gender').agg({'Price': ['count','sum','mean']})\n",
    "gender_df = pd.DataFrame(gender_table)\n",
    "gender_df.rename(columns={'count':'Purchase Count'})\n",
    "gender_df = gender_df.xs('Price',axis=1,drop_level=True)\n",
    "#gender_df['Normalized Totals'] = gender_df['sum'] / gender_df['count'] \n",
    "test = gender_df.rename(columns={'count':'Purchase Count','sum':'Total Purchase Value','mean':'Average Purchase Price'}) \n",
    "test['Normalized Totals'] = test['Total Purchase Value'] / test['Purchase Count'] \n",
    "test"
   ]
  },
  {
   "cell_type": "code",
   "execution_count": 207,
   "metadata": {},
   "outputs": [
    {
     "name": "stdout",
     "output_type": "stream",
     "text": [
      "        Total_Count  Percentage of Players\n",
      "Binned                                    \n",
      "<10              32               4.102564\n",
      "10-14            31               3.974359\n",
      "15-19           133              17.051282\n",
      "20-24           336              43.076923\n",
      "25-29           125              16.025641\n",
      "30-34            64               8.205128\n",
      "35-39            42               5.384615\n",
      "40+              17               2.179487\n"
     ]
    }
   ],
   "source": [
    "\n",
    "\n",
    "bins = [0,10, 14, 19, 24, 29,34,39,100]\n",
    "labels = ['<10','10-14','15-19','20-24','25-29','30-34','35-39','40+']\n",
    "Heroes_df['Binned'] = pd.cut(Heroes_df['Age'],bins=bins, labels=labels)\n",
    "Heroes_df_bin = Heroes_df.groupby('Binned').agg({'SN':'count'})\n",
    "binn_df = pd.DataFrame(Heroes_df_bin)\n",
    "binn_df['Percentage of Players'] = binn_df['SN'] / binn_df['SN'].sum() * 100\n",
    "binn_final = binn_df.rename(columns = {'SN': 'Total_Count'})\n",
    "print(binn_final)\n"
   ]
  },
  {
   "cell_type": "code",
   "execution_count": 208,
   "metadata": {},
   "outputs": [
    {
     "name": "stdout",
     "output_type": "stream",
     "text": [
      "        Purchase Count  Total Purchase Value  Average Purchase Price  \\\n",
      "Binned                                                                 \n",
      "<10                 32                 96.62                3.019375   \n",
      "10-14               31                 83.79                2.702903   \n",
      "15-19              133                386.42                2.905414   \n",
      "20-24              336                978.77                2.913006   \n",
      "25-29              125                370.33                2.962640   \n",
      "30-34               64                197.25                3.082031   \n",
      "35-39               42                119.40                2.842857   \n",
      "40+                 17                 53.75                3.161765   \n",
      "\n",
      "        Normalized Totals  \n",
      "Binned                     \n",
      "<10              3.019375  \n",
      "10-14            2.702903  \n",
      "15-19            2.905414  \n",
      "20-24            2.913006  \n",
      "25-29            2.962640  \n",
      "30-34            3.082031  \n",
      "35-39            2.842857  \n",
      "40+              3.161765  \n"
     ]
    }
   ],
   "source": [
    "binn_table = Heroes_df.groupby('Binned').agg({'Price': ['count','sum','mean']})\n",
    "binn2_df = pd.DataFrame(binn_table)\n",
    "binn2_df = binn2_df.xs('Price',axis=1,drop_level=True)\n",
    "#gender_df['Normalized Totals'] = gender_df['sum'] / gender_df['count'] \n",
    "binn_tst = binn2_df.rename(columns={'count':'Purchase Count','sum':'Total Purchase Value','mean':'Average Purchase Price'}) \n",
    "binn_tst['Normalized Totals'] = binn_tst['Total Purchase Value'] / binn_tst['Purchase Count'] \n",
    "print(binn_tst)"
   ]
  },
  {
   "cell_type": "code",
   "execution_count": 209,
   "metadata": {},
   "outputs": [
    {
     "name": "stdout",
     "output_type": "stream",
     "text": [
      "             Purchase Count  Total Purchase Value  Average Purchase Price\n",
      "SN                                                                       \n",
      "Undirrala66               5                 17.06                3.412000\n",
      "Saedue76                  4                 13.56                3.390000\n",
      "Mindimnya67               4                 12.74                3.185000\n",
      "Haellysu29                3                 12.73                4.243333\n",
      "Eoda93                    3                 11.58                3.860000\n"
     ]
    }
   ],
   "source": [
    "players = Heroes_df.groupby('SN').agg({'Price': ['count','sum','mean']})\n",
    "tot_df = pd.DataFrame(players)\n",
    "tot_df = tot_df.xs('Price',axis=1,drop_level=True)\n",
    "tot_tst = tot_df.rename(columns={'count':'Purchase Count','sum':'Total Purchase Value','mean':'Average Purchase Price'}) \n",
    "tot_test = tot_tst.sort_values('Total Purchase Value', ascending=False)\n",
    "print(tot_test.head())"
   ]
  },
  {
   "cell_type": "code",
   "execution_count": 199,
   "metadata": {},
   "outputs": [
    {
     "name": "stdout",
     "output_type": "stream",
     "text": [
      "                                              Purchase Count  Item Price  \\\n",
      "Item ID Item Name                                                          \n",
      "39      Betrayal, Whisper of Grieving Widows              11        2.35   \n",
      "84      Arcane Gem                                        11        2.23   \n",
      "31      Trickster                                          9        2.07   \n",
      "175     Woeful Adamantite Claymore                         9        1.24   \n",
      "13      Serenity                                           9        1.49   \n",
      "\n",
      "                                              Total Purchase Value  \n",
      "Item ID Item Name                                                   \n",
      "39      Betrayal, Whisper of Grieving Widows                 25.85  \n",
      "84      Arcane Gem                                           24.53  \n",
      "31      Trickster                                            18.63  \n",
      "175     Woeful Adamantite Claymore                           11.16  \n",
      "13      Serenity                                             13.41  \n"
     ]
    }
   ],
   "source": [
    "item_group = Heroes_df.groupby(['Item ID','Item Name']).agg({'Price': ['count','mean','sum']})\n",
    "item_df = pd.DataFrame(item_group)\n",
    "item_df = item_df.xs('Price',axis=1,drop_level=True)\n",
    "item_tst = item_df.rename(columns={'count':'Purchase Count','sum':'Total Purchase Value','mean':'Item Price'}) \n",
    "item_test = item_tst.sort_values('Purchase Count', ascending=False)\n",
    "print(str(item_test.head()))"
   ]
  },
  {
   "cell_type": "code",
   "execution_count": 201,
   "metadata": {},
   "outputs": [
    {
     "name": "stdout",
     "output_type": "stream",
     "text": [
      "                                    Purchase Count  Item Price  \\\n",
      "Item ID Item Name                                                \n",
      "34      Retribution Axe                          9        4.14   \n",
      "115     Spectral Diamond Doomblade               7        4.25   \n",
      "32      Orenmir                                  6        4.95   \n",
      "103     Singed Scalpel                           6        4.87   \n",
      "107     Splitter, Foe Of Subtlety                8        3.61   \n",
      "\n",
      "                                    Total Purchase Value  \n",
      "Item ID Item Name                                         \n",
      "34      Retribution Axe                            37.26  \n",
      "115     Spectral Diamond Doomblade                 29.75  \n",
      "32      Orenmir                                    29.70  \n",
      "103     Singed Scalpel                             29.22  \n",
      "107     Splitter, Foe Of Subtlety                  28.88  \n"
     ]
    }
   ],
   "source": [
    "item_group = Heroes_df.groupby(['Item ID','Item Name']).agg({'Price': ['count','mean','sum']})\n",
    "item_df = pd.DataFrame(item_group)\n",
    "item_df = item_df.xs('Price',axis=1,drop_level=True)\n",
    "item_tst = item_df.rename(columns={'count':'Purchase Count','sum':'Total Purchase Value','mean':'Item Price'}) \n",
    "item_test = item_tst.sort_values('Total Purchase Value', ascending=False)\n",
    "print(str(item_test.head()))"
   ]
  },
  {
   "cell_type": "code",
   "execution_count": null,
   "metadata": {
    "collapsed": true
   },
   "outputs": [],
   "source": []
  }
 ],
 "metadata": {
  "kernelspec": {
   "display_name": "Python 3",
   "language": "python",
   "name": "python3"
  },
  "language_info": {
   "codemirror_mode": {
    "name": "ipython",
    "version": 3
   },
   "file_extension": ".py",
   "mimetype": "text/x-python",
   "name": "python",
   "nbconvert_exporter": "python",
   "pygments_lexer": "ipython3",
   "version": "3.6.3"
  }
 },
 "nbformat": 4,
 "nbformat_minor": 2
}
